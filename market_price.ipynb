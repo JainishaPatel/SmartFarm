{
 "cells": [
  {
   "cell_type": "code",
   "execution_count": 1,
   "id": "e25383ee",
   "metadata": {},
   "outputs": [],
   "source": [
    "import pandas as pd\n",
    "from dotenv import load_dotenv\n",
    "import os\n"
   ]
  },
  {
   "cell_type": "code",
   "execution_count": null,
   "id": "92bc8047",
   "metadata": {},
   "outputs": [],
   "source": [
    "# Load environment variables from .env\n",
    "load_dotenv()\n",
    "\n",
    "# Get CSV path\n",
    "csv_path = os.getenv(\"PRICES_DATASET_PATH\")\n",
    "\n",
    "# Load CSV\n",
    "df = pd.read_csv(csv_path)\n",
    "\n",
    "print(\"Original shape:\", df.shape)\n",
    "df.head()\n"
   ]
  },
  {
   "cell_type": "code",
   "execution_count": null,
   "id": "50d24040",
   "metadata": {},
   "outputs": [],
   "source": [
    "df = df[[\"STATE\", \"District Name\", \"Commodity\", \"Modal_Price\", \"Date\"]]\n",
    "print(\"After keeping important columns:\", df.shape)\n",
    "df.head()\n"
   ]
  },
  {
   "cell_type": "code",
   "execution_count": 4,
   "id": "96cc98d8",
   "metadata": {},
   "outputs": [],
   "source": [
    "df[\"Date\"] = pd.to_datetime(df[\"Date\"])\n"
   ]
  },
  {
   "cell_type": "code",
   "execution_count": null,
   "id": "d675312d",
   "metadata": {},
   "outputs": [],
   "source": [
    "df = df[df[\"Date\"] >= \"2024-01-01\"]\n",
    "print(\"After filtering last 1 year:\", df.shape)\n"
   ]
  },
  {
   "cell_type": "code",
   "execution_count": null,
   "id": "626b5b25",
   "metadata": {},
   "outputs": [],
   "source": [
    "df_monthly = df.groupby(\n",
    "    [\"STATE\", \"District Name\", \"Commodity\", pd.Grouper(key=\"Date\", freq=\"M\")]\n",
    ")[\"Modal_Price\"].mean().reset_index()\n",
    "\n",
    "print(\"After monthly aggregation:\", df_monthly.shape)\n",
    "df_monthly.head()\n"
   ]
  },
  {
   "cell_type": "code",
   "execution_count": null,
   "id": "252981fe",
   "metadata": {},
   "outputs": [],
   "source": [
    "# Save cleaned dataset\n",
    "df_monthly.to_csv(\"market_price_clean.csv\", index=False)\n",
    "\n",
    "print(\"Saved reduced dataset as market_price_clean.csv\")\n"
   ]
  },
  {
   "cell_type": "code",
   "execution_count": 8,
   "id": "5b902917",
   "metadata": {},
   "outputs": [],
   "source": [
    "df_monthly[\"Date\"] = df_monthly[\"Date\"].dt.strftime(\"%d-%m-%Y\")\n"
   ]
  },
  {
   "cell_type": "code",
   "execution_count": null,
   "id": "5cb27c2e",
   "metadata": {},
   "outputs": [],
   "source": [
    "df_monthly.head()\n"
   ]
  },
  {
   "cell_type": "code",
   "execution_count": 10,
   "id": "5282e55a",
   "metadata": {},
   "outputs": [],
   "source": [
    "df_monthly.to_csv(\"market_price_clean.csv\", index=False)\n"
   ]
  }
 ],
 "metadata": {
  "kernelspec": {
   "display_name": "Python 3",
   "language": "python",
   "name": "python3"
  },
  "language_info": {
   "codemirror_mode": {
    "name": "ipython",
    "version": 3
   },
   "file_extension": ".py",
   "mimetype": "text/x-python",
   "name": "python",
   "nbconvert_exporter": "python",
   "pygments_lexer": "ipython3",
   "version": "3.13.5"
  }
 },
 "nbformat": 4,
 "nbformat_minor": 5
}
