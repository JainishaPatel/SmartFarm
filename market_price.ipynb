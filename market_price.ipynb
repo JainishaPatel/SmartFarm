{
 "cells": [
  {
   "cell_type": "code",
   "execution_count": 1,
   "id": "e25383ee",
   "metadata": {},
   "outputs": [],
   "source": [
    "import pandas as pd\n",
    "from dotenv import load_dotenv\n",
    "import os\n"
   ]
  },
  {
   "cell_type": "code",
   "execution_count": 2,
   "id": "92bc8047",
   "metadata": {},
   "outputs": [
    {
     "name": "stdout",
     "output_type": "stream",
     "text": [
      "Original shape: (164063, 10)\n"
     ]
    },
    {
     "data": {
      "text/html": [
       "<div>\n",
       "<style scoped>\n",
       "    .dataframe tbody tr th:only-of-type {\n",
       "        vertical-align: middle;\n",
       "    }\n",
       "\n",
       "    .dataframe tbody tr th {\n",
       "        vertical-align: top;\n",
       "    }\n",
       "\n",
       "    .dataframe thead th {\n",
       "        text-align: right;\n",
       "    }\n",
       "</style>\n",
       "<table border=\"1\" class=\"dataframe\">\n",
       "  <thead>\n",
       "    <tr style=\"text-align: right;\">\n",
       "      <th></th>\n",
       "      <th>STATE</th>\n",
       "      <th>District Name</th>\n",
       "      <th>Market Name</th>\n",
       "      <th>Commodity</th>\n",
       "      <th>Variety</th>\n",
       "      <th>Grade</th>\n",
       "      <th>Min_Price</th>\n",
       "      <th>Max_Price</th>\n",
       "      <th>Modal_Price</th>\n",
       "      <th>Date</th>\n",
       "    </tr>\n",
       "  </thead>\n",
       "  <tbody>\n",
       "    <tr>\n",
       "      <th>0</th>\n",
       "      <td>Uttar Pradesh</td>\n",
       "      <td>aligarh</td>\n",
       "      <td>Aligarh</td>\n",
       "      <td>Potato</td>\n",
       "      <td>Desi</td>\n",
       "      <td>FAQ</td>\n",
       "      <td>1500.0</td>\n",
       "      <td>1800</td>\n",
       "      <td>1650.0</td>\n",
       "      <td>1/1/2025</td>\n",
       "    </tr>\n",
       "    <tr>\n",
       "      <th>1</th>\n",
       "      <td>Uttar Pradesh</td>\n",
       "      <td>hardoi</td>\n",
       "      <td>Sandi</td>\n",
       "      <td>Potato</td>\n",
       "      <td>Local</td>\n",
       "      <td>FAQ</td>\n",
       "      <td>1550.0</td>\n",
       "      <td>1620</td>\n",
       "      <td>1580.0</td>\n",
       "      <td>1/1/2025</td>\n",
       "    </tr>\n",
       "    <tr>\n",
       "      <th>2</th>\n",
       "      <td>Uttar Pradesh</td>\n",
       "      <td>shravasti</td>\n",
       "      <td>Bhinga</td>\n",
       "      <td>Potato</td>\n",
       "      <td>Desi</td>\n",
       "      <td>FAQ</td>\n",
       "      <td>1470.0</td>\n",
       "      <td>1750</td>\n",
       "      <td>1600.0</td>\n",
       "      <td>1/1/2025</td>\n",
       "    </tr>\n",
       "    <tr>\n",
       "      <th>3</th>\n",
       "      <td>Uttar Pradesh</td>\n",
       "      <td>etawah</td>\n",
       "      <td>Bharthna</td>\n",
       "      <td>Potato</td>\n",
       "      <td>Desi</td>\n",
       "      <td>FAQ</td>\n",
       "      <td>1300.0</td>\n",
       "      <td>1500</td>\n",
       "      <td>1400.0</td>\n",
       "      <td>1/1/2025</td>\n",
       "    </tr>\n",
       "    <tr>\n",
       "      <th>4</th>\n",
       "      <td>Tamilnadu</td>\n",
       "      <td>karur</td>\n",
       "      <td>Velayuthampalayam(Uzhavar Sandhai )</td>\n",
       "      <td>Potato</td>\n",
       "      <td>(Red Nanital)</td>\n",
       "      <td>Local</td>\n",
       "      <td>4000.0</td>\n",
       "      <td>5000</td>\n",
       "      <td>5000.0</td>\n",
       "      <td>1/1/2025</td>\n",
       "    </tr>\n",
       "  </tbody>\n",
       "</table>\n",
       "</div>"
      ],
      "text/plain": [
       "           STATE District Name                          Market Name Commodity  \\\n",
       "0  Uttar Pradesh       aligarh                              Aligarh    Potato   \n",
       "1  Uttar Pradesh        hardoi                                Sandi    Potato   \n",
       "2  Uttar Pradesh     shravasti                               Bhinga    Potato   \n",
       "3  Uttar Pradesh        etawah                             Bharthna    Potato   \n",
       "4      Tamilnadu         karur  Velayuthampalayam(Uzhavar Sandhai )    Potato   \n",
       "\n",
       "         Variety  Grade  Min_Price  Max_Price  Modal_Price      Date  \n",
       "0           Desi    FAQ     1500.0       1800       1650.0  1/1/2025  \n",
       "1          Local    FAQ     1550.0       1620       1580.0  1/1/2025  \n",
       "2           Desi    FAQ     1470.0       1750       1600.0  1/1/2025  \n",
       "3           Desi    FAQ     1300.0       1500       1400.0  1/1/2025  \n",
       "4  (Red Nanital)  Local     4000.0       5000       5000.0  1/1/2025  "
      ]
     },
     "execution_count": 2,
     "metadata": {},
     "output_type": "execute_result"
    }
   ],
   "source": [
    "# Load environment variables from .env\n",
    "load_dotenv()\n",
    "\n",
    "# Get CSV path\n",
    "csv_path = os.getenv(\"PRICES_DATASET_PATH\")\n",
    "\n",
    "# Load CSV\n",
    "df = pd.read_csv(csv_path)\n",
    "\n",
    "print(\"Original shape:\", df.shape)\n",
    "df.head()\n"
   ]
  },
  {
   "cell_type": "code",
   "execution_count": 3,
   "id": "50d24040",
   "metadata": {},
   "outputs": [
    {
     "name": "stdout",
     "output_type": "stream",
     "text": [
      "After keeping important columns: (164063, 5)\n"
     ]
    },
    {
     "data": {
      "text/html": [
       "<div>\n",
       "<style scoped>\n",
       "    .dataframe tbody tr th:only-of-type {\n",
       "        vertical-align: middle;\n",
       "    }\n",
       "\n",
       "    .dataframe tbody tr th {\n",
       "        vertical-align: top;\n",
       "    }\n",
       "\n",
       "    .dataframe thead th {\n",
       "        text-align: right;\n",
       "    }\n",
       "</style>\n",
       "<table border=\"1\" class=\"dataframe\">\n",
       "  <thead>\n",
       "    <tr style=\"text-align: right;\">\n",
       "      <th></th>\n",
       "      <th>STATE</th>\n",
       "      <th>District Name</th>\n",
       "      <th>Commodity</th>\n",
       "      <th>Modal_Price</th>\n",
       "      <th>Date</th>\n",
       "    </tr>\n",
       "  </thead>\n",
       "  <tbody>\n",
       "    <tr>\n",
       "      <th>0</th>\n",
       "      <td>Uttar Pradesh</td>\n",
       "      <td>aligarh</td>\n",
       "      <td>Potato</td>\n",
       "      <td>1650.0</td>\n",
       "      <td>1/1/2025</td>\n",
       "    </tr>\n",
       "    <tr>\n",
       "      <th>1</th>\n",
       "      <td>Uttar Pradesh</td>\n",
       "      <td>hardoi</td>\n",
       "      <td>Potato</td>\n",
       "      <td>1580.0</td>\n",
       "      <td>1/1/2025</td>\n",
       "    </tr>\n",
       "    <tr>\n",
       "      <th>2</th>\n",
       "      <td>Uttar Pradesh</td>\n",
       "      <td>shravasti</td>\n",
       "      <td>Potato</td>\n",
       "      <td>1600.0</td>\n",
       "      <td>1/1/2025</td>\n",
       "    </tr>\n",
       "    <tr>\n",
       "      <th>3</th>\n",
       "      <td>Uttar Pradesh</td>\n",
       "      <td>etawah</td>\n",
       "      <td>Potato</td>\n",
       "      <td>1400.0</td>\n",
       "      <td>1/1/2025</td>\n",
       "    </tr>\n",
       "    <tr>\n",
       "      <th>4</th>\n",
       "      <td>Tamilnadu</td>\n",
       "      <td>karur</td>\n",
       "      <td>Potato</td>\n",
       "      <td>5000.0</td>\n",
       "      <td>1/1/2025</td>\n",
       "    </tr>\n",
       "  </tbody>\n",
       "</table>\n",
       "</div>"
      ],
      "text/plain": [
       "           STATE District Name Commodity  Modal_Price      Date\n",
       "0  Uttar Pradesh       aligarh    Potato       1650.0  1/1/2025\n",
       "1  Uttar Pradesh        hardoi    Potato       1580.0  1/1/2025\n",
       "2  Uttar Pradesh     shravasti    Potato       1600.0  1/1/2025\n",
       "3  Uttar Pradesh        etawah    Potato       1400.0  1/1/2025\n",
       "4      Tamilnadu         karur    Potato       5000.0  1/1/2025"
      ]
     },
     "execution_count": 3,
     "metadata": {},
     "output_type": "execute_result"
    }
   ],
   "source": [
    "df = df[[\"STATE\", \"District Name\", \"Commodity\", \"Modal_Price\", \"Date\"]]\n",
    "print(\"After keeping important columns:\", df.shape)\n",
    "df.head()\n"
   ]
  },
  {
   "cell_type": "code",
   "execution_count": 4,
   "id": "96cc98d8",
   "metadata": {},
   "outputs": [],
   "source": [
    "df[\"Date\"] = pd.to_datetime(df[\"Date\"])\n"
   ]
  },
  {
   "cell_type": "code",
   "execution_count": 5,
   "id": "d675312d",
   "metadata": {},
   "outputs": [
    {
     "name": "stdout",
     "output_type": "stream",
     "text": [
      "After filtering last 1 year: (164063, 5)\n"
     ]
    }
   ],
   "source": [
    "df = df[df[\"Date\"] >= \"2024-01-01\"]\n",
    "print(\"After filtering last 1 year:\", df.shape)\n"
   ]
  },
  {
   "cell_type": "code",
   "execution_count": 6,
   "id": "626b5b25",
   "metadata": {},
   "outputs": [
    {
     "name": "stderr",
     "output_type": "stream",
     "text": [
      "C:\\Users\\Jainisha.LAPTOP-94L8ASEJ\\AppData\\Local\\Temp\\ipykernel_11876\\3264570620.py:2: FutureWarning: 'M' is deprecated and will be removed in a future version, please use 'ME' instead.\n",
      "  [\"STATE\", \"District Name\", \"Commodity\", pd.Grouper(key=\"Date\", freq=\"M\")]\n"
     ]
    },
    {
     "name": "stdout",
     "output_type": "stream",
     "text": [
      "After monthly aggregation: (3094, 5)\n"
     ]
    },
    {
     "data": {
      "text/html": [
       "<div>\n",
       "<style scoped>\n",
       "    .dataframe tbody tr th:only-of-type {\n",
       "        vertical-align: middle;\n",
       "    }\n",
       "\n",
       "    .dataframe tbody tr th {\n",
       "        vertical-align: top;\n",
       "    }\n",
       "\n",
       "    .dataframe thead th {\n",
       "        text-align: right;\n",
       "    }\n",
       "</style>\n",
       "<table border=\"1\" class=\"dataframe\">\n",
       "  <thead>\n",
       "    <tr style=\"text-align: right;\">\n",
       "      <th></th>\n",
       "      <th>STATE</th>\n",
       "      <th>District Name</th>\n",
       "      <th>Commodity</th>\n",
       "      <th>Date</th>\n",
       "      <th>Modal_Price</th>\n",
       "    </tr>\n",
       "  </thead>\n",
       "  <tbody>\n",
       "    <tr>\n",
       "      <th>0</th>\n",
       "      <td>Punjab</td>\n",
       "      <td>fazilka</td>\n",
       "      <td>Onion</td>\n",
       "      <td>2025-02-28</td>\n",
       "      <td>2370.512821</td>\n",
       "    </tr>\n",
       "    <tr>\n",
       "      <th>1</th>\n",
       "      <td>Punjab</td>\n",
       "      <td>fazilka</td>\n",
       "      <td>Onion</td>\n",
       "      <td>2025-03-31</td>\n",
       "      <td>2687.068966</td>\n",
       "    </tr>\n",
       "    <tr>\n",
       "      <th>2</th>\n",
       "      <td>Punjab</td>\n",
       "      <td>fazilka</td>\n",
       "      <td>Onion</td>\n",
       "      <td>2025-04-30</td>\n",
       "      <td>1572.615385</td>\n",
       "    </tr>\n",
       "    <tr>\n",
       "      <th>3</th>\n",
       "      <td>Punjab</td>\n",
       "      <td>fazilka</td>\n",
       "      <td>Onion</td>\n",
       "      <td>2025-05-31</td>\n",
       "      <td>1316.406250</td>\n",
       "    </tr>\n",
       "    <tr>\n",
       "      <th>4</th>\n",
       "      <td>Punjab</td>\n",
       "      <td>fazilka</td>\n",
       "      <td>Onion</td>\n",
       "      <td>2025-06-30</td>\n",
       "      <td>1231.250000</td>\n",
       "    </tr>\n",
       "  </tbody>\n",
       "</table>\n",
       "</div>"
      ],
      "text/plain": [
       "     STATE District Name Commodity       Date  Modal_Price\n",
       "0   Punjab       fazilka     Onion 2025-02-28  2370.512821\n",
       "1   Punjab       fazilka     Onion 2025-03-31  2687.068966\n",
       "2   Punjab       fazilka     Onion 2025-04-30  1572.615385\n",
       "3   Punjab       fazilka     Onion 2025-05-31  1316.406250\n",
       "4   Punjab       fazilka     Onion 2025-06-30  1231.250000"
      ]
     },
     "execution_count": 6,
     "metadata": {},
     "output_type": "execute_result"
    }
   ],
   "source": [
    "df_monthly = df.groupby(\n",
    "    [\"STATE\", \"District Name\", \"Commodity\", pd.Grouper(key=\"Date\", freq=\"M\")]\n",
    ")[\"Modal_Price\"].mean().reset_index()\n",
    "\n",
    "print(\"After monthly aggregation:\", df_monthly.shape)\n",
    "df_monthly.head()\n"
   ]
  },
  {
   "cell_type": "code",
   "execution_count": 7,
   "id": "252981fe",
   "metadata": {},
   "outputs": [
    {
     "name": "stdout",
     "output_type": "stream",
     "text": [
      "✅ Saved reduced dataset as market_price_clean.csv\n"
     ]
    }
   ],
   "source": [
    "# Save cleaned dataset\n",
    "df_monthly.to_csv(\"market_price_clean.csv\", index=False)\n",
    "\n",
    "print(\"✅ Saved reduced dataset as market_price_clean.csv\")\n"
   ]
  },
  {
   "cell_type": "code",
   "execution_count": 8,
   "id": "5b902917",
   "metadata": {},
   "outputs": [],
   "source": [
    "df_monthly[\"Date\"] = df_monthly[\"Date\"].dt.strftime(\"%d-%m-%Y\")\n"
   ]
  },
  {
   "cell_type": "code",
   "execution_count": 9,
   "id": "5cb27c2e",
   "metadata": {},
   "outputs": [
    {
     "data": {
      "text/html": [
       "<div>\n",
       "<style scoped>\n",
       "    .dataframe tbody tr th:only-of-type {\n",
       "        vertical-align: middle;\n",
       "    }\n",
       "\n",
       "    .dataframe tbody tr th {\n",
       "        vertical-align: top;\n",
       "    }\n",
       "\n",
       "    .dataframe thead th {\n",
       "        text-align: right;\n",
       "    }\n",
       "</style>\n",
       "<table border=\"1\" class=\"dataframe\">\n",
       "  <thead>\n",
       "    <tr style=\"text-align: right;\">\n",
       "      <th></th>\n",
       "      <th>STATE</th>\n",
       "      <th>District Name</th>\n",
       "      <th>Commodity</th>\n",
       "      <th>Date</th>\n",
       "      <th>Modal_Price</th>\n",
       "    </tr>\n",
       "  </thead>\n",
       "  <tbody>\n",
       "    <tr>\n",
       "      <th>0</th>\n",
       "      <td>Punjab</td>\n",
       "      <td>fazilka</td>\n",
       "      <td>Onion</td>\n",
       "      <td>28-02-2025</td>\n",
       "      <td>2370.512821</td>\n",
       "    </tr>\n",
       "    <tr>\n",
       "      <th>1</th>\n",
       "      <td>Punjab</td>\n",
       "      <td>fazilka</td>\n",
       "      <td>Onion</td>\n",
       "      <td>31-03-2025</td>\n",
       "      <td>2687.068966</td>\n",
       "    </tr>\n",
       "    <tr>\n",
       "      <th>2</th>\n",
       "      <td>Punjab</td>\n",
       "      <td>fazilka</td>\n",
       "      <td>Onion</td>\n",
       "      <td>30-04-2025</td>\n",
       "      <td>1572.615385</td>\n",
       "    </tr>\n",
       "    <tr>\n",
       "      <th>3</th>\n",
       "      <td>Punjab</td>\n",
       "      <td>fazilka</td>\n",
       "      <td>Onion</td>\n",
       "      <td>31-05-2025</td>\n",
       "      <td>1316.406250</td>\n",
       "    </tr>\n",
       "    <tr>\n",
       "      <th>4</th>\n",
       "      <td>Punjab</td>\n",
       "      <td>fazilka</td>\n",
       "      <td>Onion</td>\n",
       "      <td>30-06-2025</td>\n",
       "      <td>1231.250000</td>\n",
       "    </tr>\n",
       "  </tbody>\n",
       "</table>\n",
       "</div>"
      ],
      "text/plain": [
       "     STATE District Name Commodity        Date  Modal_Price\n",
       "0   Punjab       fazilka     Onion  28-02-2025  2370.512821\n",
       "1   Punjab       fazilka     Onion  31-03-2025  2687.068966\n",
       "2   Punjab       fazilka     Onion  30-04-2025  1572.615385\n",
       "3   Punjab       fazilka     Onion  31-05-2025  1316.406250\n",
       "4   Punjab       fazilka     Onion  30-06-2025  1231.250000"
      ]
     },
     "execution_count": 9,
     "metadata": {},
     "output_type": "execute_result"
    }
   ],
   "source": [
    "df_monthly.head()\n"
   ]
  },
  {
   "cell_type": "code",
   "execution_count": 10,
   "id": "5282e55a",
   "metadata": {},
   "outputs": [],
   "source": [
    "df_monthly.to_csv(\"market_price_clean.csv\", index=False)\n"
   ]
  }
 ],
 "metadata": {
  "kernelspec": {
   "display_name": "Python 3",
   "language": "python",
   "name": "python3"
  },
  "language_info": {
   "codemirror_mode": {
    "name": "ipython",
    "version": 3
   },
   "file_extension": ".py",
   "mimetype": "text/x-python",
   "name": "python",
   "nbconvert_exporter": "python",
   "pygments_lexer": "ipython3",
   "version": "3.13.5"
  }
 },
 "nbformat": 4,
 "nbformat_minor": 5
}
